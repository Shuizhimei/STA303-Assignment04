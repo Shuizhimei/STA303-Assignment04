{
 "cells": [
  {
   "cell_type": "markdown",
   "id": "4b711642",
   "metadata": {},
   "source": [
    "# Classification"
   ]
  },
  {
   "cell_type": "code",
   "execution_count": 15,
   "id": "e92b0837",
   "metadata": {},
   "outputs": [],
   "source": [
    "import sys\n",
    "import importlib\n",
    "import dataset_build\n",
    "import test_conformal_training\n",
    "import torch\n",
    "sys.path.append('./dataset_build.py')\n",
    "sys.path.append('./test_conformal_training.py')"
   ]
  },
  {
   "cell_type": "code",
   "execution_count": 2,
   "id": "1390ccff",
   "metadata": {},
   "outputs": [
    {
     "data": {
      "text/plain": [
       "<module 'test_conformal_training' from '/data/lab/STA303-Assignment04/test_conformal_training.py'>"
      ]
     },
     "execution_count": 2,
     "metadata": {},
     "output_type": "execute_result"
    }
   ],
   "source": [
    "%load_ext autoreload\n",
    "%autoreload 1\n",
    "%aimport dataset_build\n",
    "%aimport test_conformal_training\n",
    "importlib.reload(dataset_build)\n",
    "importlib.reload(test_conformal_training)"
   ]
  },
  {
   "cell_type": "markdown",
   "id": "2ee22077",
   "metadata": {},
   "source": [
    "## MNIST"
   ]
  },
  {
   "cell_type": "code",
   "execution_count": 3,
   "id": "c027389b",
   "metadata": {},
   "outputs": [],
   "source": [
    "train_dataset = dataset_build.build_dataset(\"mnist\")\n",
    "train_data_loader = torch.utils.data.DataLoader(train_dataset, batch_size=512, shuffle=True, pin_memory=True)\n",
    "test_dataset = dataset_build.build_dataset(\"mnist\", mode='test')\n",
    "cal_dataset, test_dataset = torch.utils.data.random_split(test_dataset, [5000, 5000])\n",
    "cal_data_loader = torch.utils.data.DataLoader(cal_dataset, batch_size=1600, shuffle=False, pin_memory=True)\n",
    "test_data_loader = torch.utils.data.DataLoader(test_dataset, batch_size=1600, shuffle=False, pin_memory=True)"
   ]
  },
  {
   "cell_type": "code",
   "execution_count": 13,
   "id": "079c3b76",
   "metadata": {},
   "outputs": [
    {
     "name": "stdout",
     "output_type": "stream",
     "text": [
      "Score: THR. Predictor : SplitPredictor. Alpha : 0.01. Result is {'Coverage_rate': 0.9878, 'Average_size': 1.694}\n",
      "Score: THR. Predictor : SplitPredictor. Alpha : 0.05. Result is {'Coverage_rate': 0.9436, 'Average_size': 1.035}\n",
      "Score: THR. Predictor : SplitPredictor. Alpha : 0.1. Result is {'Coverage_rate': 0.901, 'Average_size': 0.9408}\n",
      "Score: THR. Predictor : SplitPredictor. Alpha : 0.2. Result is {'Coverage_rate': 0.812, 'Average_size': 0.826}\n",
      "Score: THR. Predictor : SplitPredictor. Alpha : 0.5. Result is {'Coverage_rate': 0.513, 'Average_size': 0.515}\n",
      "Score: THR. Predictor : ClassWisePredictor. Alpha : 0.01. Result is {'Coverage_rate': 0.9886, 'Average_size': 1.8304}\n",
      "Score: THR. Predictor : ClassWisePredictor. Alpha : 0.05. Result is {'Coverage_rate': 0.9424, 'Average_size': 1.059}\n",
      "Score: THR. Predictor : ClassWisePredictor. Alpha : 0.1. Result is {'Coverage_rate': 0.8968, 'Average_size': 0.9422}\n",
      "Score: THR. Predictor : ClassWisePredictor. Alpha : 0.2. Result is {'Coverage_rate': 0.8086, 'Average_size': 0.8236}\n",
      "Score: THR. Predictor : ClassWisePredictor. Alpha : 0.5. Result is {'Coverage_rate': 0.509, 'Average_size': 0.5108}\n",
      "Score: THR. Predictor : ClusterPredictor. Alpha : 0.01. Result is {'Coverage_rate': 0.9894, 'Average_size': 1.7326}\n",
      "Score: THR. Predictor : ClusterPredictor. Alpha : 0.05. Result is {'Coverage_rate': 0.9464, 'Average_size': 1.0456}\n",
      "Score: THR. Predictor : ClusterPredictor. Alpha : 0.1. Result is {'Coverage_rate': 0.9022, 'Average_size': 0.9422}\n",
      "Score: THR. Predictor : ClusterPredictor. Alpha : 0.2. Result is {'Coverage_rate': 0.8106, 'Average_size': 0.8242}\n",
      "Score: THR. Predictor : ClusterPredictor. Alpha : 0.5. Result is {'Coverage_rate': 0.5164, 'Average_size': 0.5184}\n",
      "Score: APS. Predictor : SplitPredictor. Alpha : 0.01. Result is {'Coverage_rate': 0.9868, 'Average_size': 2.1356}\n",
      "Score: APS. Predictor : SplitPredictor. Alpha : 0.05. Result is {'Coverage_rate': 0.9462, 'Average_size': 1.391}\n",
      "Score: APS. Predictor : SplitPredictor. Alpha : 0.1. Result is {'Coverage_rate': 0.896, 'Average_size': 1.1712}\n",
      "Score: APS. Predictor : SplitPredictor. Alpha : 0.2. Result is {'Coverage_rate': 0.793, 'Average_size': 0.955}\n",
      "Score: APS. Predictor : SplitPredictor. Alpha : 0.5. Result is {'Coverage_rate': 0.4922, 'Average_size': 0.551}\n",
      "Score: APS. Predictor : ClassWisePredictor. Alpha : 0.01. Result is {'Coverage_rate': 0.985, 'Average_size': 2.2752}\n",
      "Score: APS. Predictor : ClassWisePredictor. Alpha : 0.05. Result is {'Coverage_rate': 0.948, 'Average_size': 1.4156}\n",
      "Score: APS. Predictor : ClassWisePredictor. Alpha : 0.1. Result is {'Coverage_rate': 0.8998, 'Average_size': 1.1712}\n",
      "Score: APS. Predictor : ClassWisePredictor. Alpha : 0.2. Result is {'Coverage_rate': 0.792, 'Average_size': 0.9456}\n",
      "Score: APS. Predictor : ClassWisePredictor. Alpha : 0.5. Result is {'Coverage_rate': 0.4954, 'Average_size': 0.5518}\n",
      "Score: APS. Predictor : ClusterPredictor. Alpha : 0.01. Result is {'Coverage_rate': 0.986, 'Average_size': 2.2102}\n",
      "Score: APS. Predictor : ClusterPredictor. Alpha : 0.05. Result is {'Coverage_rate': 0.9492, 'Average_size': 1.4172}\n",
      "Score: APS. Predictor : ClusterPredictor. Alpha : 0.1. Result is {'Coverage_rate': 0.9022, 'Average_size': 1.1842}\n",
      "Score: APS. Predictor : ClusterPredictor. Alpha : 0.2. Result is {'Coverage_rate': 0.7954, 'Average_size': 0.9494}\n",
      "Score: APS. Predictor : ClusterPredictor. Alpha : 0.5. Result is {'Coverage_rate': 0.4858, 'Average_size': 0.5474}\n",
      "Score: RAPS. Predictor : SplitPredictor. Alpha : 0.01. Result is {'Coverage_rate': 0.9882, 'Average_size': 3.0516}\n",
      "Score: RAPS. Predictor : SplitPredictor. Alpha : 0.05. Result is {'Coverage_rate': 0.9442, 'Average_size': 1.0534}\n",
      "Score: RAPS. Predictor : SplitPredictor. Alpha : 0.1. Result is {'Coverage_rate': 0.8992, 'Average_size': 0.968}\n",
      "Score: RAPS. Predictor : SplitPredictor. Alpha : 0.2. Result is {'Coverage_rate': 0.804, 'Average_size': 0.872}\n",
      "Score: RAPS. Predictor : SplitPredictor. Alpha : 0.5. Result is {'Coverage_rate': 0.5064, 'Average_size': 0.5622}\n",
      "Score: RAPS. Predictor : ClassWisePredictor. Alpha : 0.01. Result is {'Coverage_rate': 0.9882, 'Average_size': 3.247}\n",
      "Score: RAPS. Predictor : ClassWisePredictor. Alpha : 0.05. Result is {'Coverage_rate': 0.9444, 'Average_size': 1.1004}\n",
      "Score: RAPS. Predictor : ClassWisePredictor. Alpha : 0.1. Result is {'Coverage_rate': 0.902, 'Average_size': 0.9718}\n",
      "Score: RAPS. Predictor : ClassWisePredictor. Alpha : 0.2. Result is {'Coverage_rate': 0.789, 'Average_size': 0.856}\n",
      "Score: RAPS. Predictor : ClassWisePredictor. Alpha : 0.5. Result is {'Coverage_rate': 0.5026, 'Average_size': 0.5556}\n",
      "Score: RAPS. Predictor : ClusterPredictor. Alpha : 0.01. Result is {'Coverage_rate': 0.9876, 'Average_size': 3.04}\n",
      "Score: RAPS. Predictor : ClusterPredictor. Alpha : 0.05. Result is {'Coverage_rate': 0.9466, 'Average_size': 1.0688}\n",
      "Score: RAPS. Predictor : ClusterPredictor. Alpha : 0.1. Result is {'Coverage_rate': 0.8974, 'Average_size': 0.9662}\n",
      "Score: RAPS. Predictor : ClusterPredictor. Alpha : 0.2. Result is {'Coverage_rate': 0.8034, 'Average_size': 0.8712}\n",
      "Score: RAPS. Predictor : ClusterPredictor. Alpha : 0.5. Result is {'Coverage_rate': 0.4934, 'Average_size': 0.547}\n",
      "Score: SAPS. Predictor : SplitPredictor. Alpha : 0.01. Result is {'Coverage_rate': 0.987, 'Average_size': 2.2696}\n",
      "Score: SAPS. Predictor : SplitPredictor. Alpha : 0.05. Result is {'Coverage_rate': 0.9478, 'Average_size': 1.2914}\n",
      "Score: SAPS. Predictor : SplitPredictor. Alpha : 0.1. Result is {'Coverage_rate': 0.8972, 'Average_size': 1.1568}\n",
      "Score: SAPS. Predictor : SplitPredictor. Alpha : 0.2. Result is {'Coverage_rate': 0.789, 'Average_size': 0.9648}\n",
      "Score: SAPS. Predictor : SplitPredictor. Alpha : 0.5. Result is {'Coverage_rate': 0.4906, 'Average_size': 0.5532}\n",
      "Score: SAPS. Predictor : ClassWisePredictor. Alpha : 0.01. Result is {'Coverage_rate': 0.9872, 'Average_size': 2.6508}\n",
      "Score: SAPS. Predictor : ClassWisePredictor. Alpha : 0.05. Result is {'Coverage_rate': 0.9438, 'Average_size': 1.2858}\n",
      "Score: SAPS. Predictor : ClassWisePredictor. Alpha : 0.1. Result is {'Coverage_rate': 0.8996, 'Average_size': 1.1526}\n",
      "Score: SAPS. Predictor : ClassWisePredictor. Alpha : 0.2. Result is {'Coverage_rate': 0.8002, 'Average_size': 0.969}\n",
      "Score: SAPS. Predictor : ClassWisePredictor. Alpha : 0.5. Result is {'Coverage_rate': 0.5, 'Average_size': 0.5608}\n",
      "Score: SAPS. Predictor : ClusterPredictor. Alpha : 0.01. Result is {'Coverage_rate': 0.9862, 'Average_size': 2.0378}\n",
      "Score: SAPS. Predictor : ClusterPredictor. Alpha : 0.05. Result is {'Coverage_rate': 0.941, 'Average_size': 1.277}\n",
      "Score: SAPS. Predictor : ClusterPredictor. Alpha : 0.1. Result is {'Coverage_rate': 0.8992, 'Average_size': 1.1646}\n",
      "Score: SAPS. Predictor : ClusterPredictor. Alpha : 0.2. Result is {'Coverage_rate': 0.8002, 'Average_size': 0.9766}\n",
      "Score: SAPS. Predictor : ClusterPredictor. Alpha : 0.5. Result is {'Coverage_rate': 0.5024, 'Average_size': 0.5654}\n"
     ]
    }
   ],
   "source": [
    "test_conformal_training.test_training(\"MNIST\", 10, train_data_loader, cal_data_loader, test_data_loader)"
   ]
  },
  {
   "cell_type": "markdown",
   "id": "fd410dfa",
   "metadata": {},
   "source": [
    "## Flowers102"
   ]
  },
  {
   "cell_type": "code",
   "execution_count": 17,
   "id": "c2ae2a7c",
   "metadata": {},
   "outputs": [],
   "source": [
    "train_set = dataset_build.build_dataset(\"flowers102\")\n",
    "train_data_loader = torch.utils.data.DataLoader(train_set, batch_size=128,\n",
    "                                          shuffle=True, num_workers=2)\n",
    "test_set = dataset_build.build_dataset(\"flowers102\", mode='test')\n",
    "cal_dataset, test_dataset = torch.utils.data.random_split(test_set, [len(test_set)//2, len(test_set)-len(test_set)//2])\n",
    "\n",
    "cal_data_loader = torch.utils.data.DataLoader(cal_dataset, batch_size=128, shuffle=False, pin_memory=True)\n",
    "test_data_loader = torch.utils.data.DataLoader(test_dataset, batch_size=128, shuffle=False, pin_memory=True)"
   ]
  },
  {
   "cell_type": "code",
   "execution_count": 19,
   "id": "3fc7fbec",
   "metadata": {},
   "outputs": [
    {
     "name": "stdout",
     "output_type": "stream",
     "text": [
      "Score: THR. Predictor : SplitPredictor. Alpha : 0.01. Result is {'Coverage_rate': 0.9892682926829268, 'Average_size': 83.50341463414634}\n",
      "Score: THR. Predictor : SplitPredictor. Alpha : 0.05. Result is {'Coverage_rate': 0.9460162601626017, 'Average_size': 58.531056910569106}\n",
      "Score: THR. Predictor : SplitPredictor. Alpha : 0.1. Result is {'Coverage_rate': 0.8978861788617886, 'Average_size': 43.19284552845529}\n",
      "Score: THR. Predictor : SplitPredictor. Alpha : 0.2. Result is {'Coverage_rate': 0.7931707317073171, 'Average_size': 25.95219512195122}\n",
      "Score: THR. Predictor : SplitPredictor. Alpha : 0.5. Result is {'Coverage_rate': 0.4813008130081301, 'Average_size': 7.178211382113821}\n"
     ]
    },
    {
     "name": "stderr",
     "output_type": "stream",
     "text": [
      "/usr/local/lib/python3.10/dist-packages/torchcp/classification/predictors/split.py:59: UserWarning: The value of quantile exceed 1. It should be a value in (0,1). To avoid program crash, the threshold is set as torch.inf.\n",
      "  warnings.warn(\"The value of quantile exceed 1. It should be a value in (0,1). To avoid program crash, the threshold is set as torch.inf.\")\n"
     ]
    },
    {
     "name": "stdout",
     "output_type": "stream",
     "text": [
      "Score: THR. Predictor : ClassWisePredictor. Alpha : 0.01. Result is {'Coverage_rate': 0.9996747967479674, 'Average_size': 101.62211382113821}\n",
      "Score: THR. Predictor : ClassWisePredictor. Alpha : 0.05. Result is {'Coverage_rate': 0.959349593495935, 'Average_size': 69.01235772357724}\n",
      "Score: THR. Predictor : ClassWisePredictor. Alpha : 0.1. Result is {'Coverage_rate': 0.9086178861788617, 'Average_size': 43.08975609756097}\n",
      "Score: THR. Predictor : ClassWisePredictor. Alpha : 0.2. Result is {'Coverage_rate': 0.8126829268292682, 'Average_size': 27.358048780487806}\n",
      "Score: THR. Predictor : ClassWisePredictor. Alpha : 0.5. Result is {'Coverage_rate': 0.5102439024390244, 'Average_size': 10.575609756097561}\n",
      "Score: THR. Predictor : ClusterPredictor. Alpha : 0.01. Result is {'Coverage_rate': 0.9892682926829268, 'Average_size': 83.59837398373983}\n",
      "Score: THR. Predictor : ClusterPredictor. Alpha : 0.05. Result is {'Coverage_rate': 0.9456910569105691, 'Average_size': 58.49268292682927}\n",
      "Score: THR. Predictor : ClusterPredictor. Alpha : 0.1. Result is {'Coverage_rate': 0.896910569105691, 'Average_size': 43.05691056910569}\n",
      "Score: THR. Predictor : ClusterPredictor. Alpha : 0.2. Result is {'Coverage_rate': 0.792520325203252, 'Average_size': 25.826341463414636}\n",
      "Score: THR. Predictor : ClusterPredictor. Alpha : 0.5. Result is {'Coverage_rate': 0.4816260162601626, 'Average_size': 7.206829268292683}\n",
      "Score: APS. Predictor : SplitPredictor. Alpha : 0.01. Result is {'Coverage_rate': 0.9889430894308943, 'Average_size': 83.02406504065041}\n",
      "Score: APS. Predictor : SplitPredictor. Alpha : 0.05. Result is {'Coverage_rate': 0.9482926829268292, 'Average_size': 60.13918699186992}\n",
      "Score: APS. Predictor : SplitPredictor. Alpha : 0.1. Result is {'Coverage_rate': 0.9001626016260162, 'Average_size': 44.98178861788618}\n",
      "Score: APS. Predictor : SplitPredictor. Alpha : 0.2. Result is {'Coverage_rate': 0.7980487804878049, 'Average_size': 29.338536585365855}\n",
      "Score: APS. Predictor : SplitPredictor. Alpha : 0.5. Result is {'Coverage_rate': 0.4926829268292683, 'Average_size': 9.866666666666667}\n",
      "Score: APS. Predictor : ClassWisePredictor. Alpha : 0.01. Result is {'Coverage_rate': 0.9996747967479674, 'Average_size': 101.67772357723577}\n",
      "Score: APS. Predictor : ClassWisePredictor. Alpha : 0.05. Result is {'Coverage_rate': 0.9577235772357724, 'Average_size': 70.69723577235773}\n",
      "Score: APS. Predictor : ClassWisePredictor. Alpha : 0.1. Result is {'Coverage_rate': 0.9079674796747967, 'Average_size': 46.147642276422765}\n",
      "Score: APS. Predictor : ClassWisePredictor. Alpha : 0.2. Result is {'Coverage_rate': 0.8094308943089431, 'Average_size': 30.484878048780487}\n",
      "Score: APS. Predictor : ClassWisePredictor. Alpha : 0.5. Result is {'Coverage_rate': 0.5141463414634146, 'Average_size': 13.199349593495935}\n",
      "Score: APS. Predictor : ClusterPredictor. Alpha : 0.01. Result is {'Coverage_rate': 0.9895934959349594, 'Average_size': 83.35739837398374}\n",
      "Score: APS. Predictor : ClusterPredictor. Alpha : 0.05. Result is {'Coverage_rate': 0.9486178861788618, 'Average_size': 60.136585365853655}\n",
      "Score: APS. Predictor : ClusterPredictor. Alpha : 0.1. Result is {'Coverage_rate': 0.9004878048780488, 'Average_size': 45.01268292682927}\n",
      "Score: APS. Predictor : ClusterPredictor. Alpha : 0.2. Result is {'Coverage_rate': 0.7980487804878049, 'Average_size': 29.394471544715447}\n",
      "Score: APS. Predictor : ClusterPredictor. Alpha : 0.5. Result is {'Coverage_rate': 0.4978861788617886, 'Average_size': 10.11349593495935}\n",
      "Score: RAPS. Predictor : SplitPredictor. Alpha : 0.01. Result is {'Coverage_rate': 0.9912195121951219, 'Average_size': 77.38959349593496}\n",
      "Score: RAPS. Predictor : SplitPredictor. Alpha : 0.05. Result is {'Coverage_rate': 0.9460162601626017, 'Average_size': 53.492357723577236}\n",
      "Score: RAPS. Predictor : SplitPredictor. Alpha : 0.1. Result is {'Coverage_rate': 0.8946341463414634, 'Average_size': 40.33951219512195}\n",
      "Score: RAPS. Predictor : SplitPredictor. Alpha : 0.2. Result is {'Coverage_rate': 0.7892682926829269, 'Average_size': 24.956422764227643}\n",
      "Score: RAPS. Predictor : SplitPredictor. Alpha : 0.5. Result is {'Coverage_rate': 0.479349593495935, 'Average_size': 7.32}\n",
      "Score: RAPS. Predictor : ClassWisePredictor. Alpha : 0.01. Result is {'Coverage_rate': 0.9996747967479674, 'Average_size': 101.7339837398374}\n",
      "Score: RAPS. Predictor : ClassWisePredictor. Alpha : 0.05. Result is {'Coverage_rate': 0.9590243902439024, 'Average_size': 69.97495934959349}\n",
      "Score: RAPS. Predictor : ClassWisePredictor. Alpha : 0.1. Result is {'Coverage_rate': 0.9056910569105691, 'Average_size': 44.61170731707317}\n",
      "Score: RAPS. Predictor : ClassWisePredictor. Alpha : 0.2. Result is {'Coverage_rate': 0.8019512195121952, 'Average_size': 27.951869918699188}\n",
      "Score: RAPS. Predictor : ClassWisePredictor. Alpha : 0.5. Result is {'Coverage_rate': 0.4949593495934959, 'Average_size': 9.741138211382113}\n",
      "Score: RAPS. Predictor : ClusterPredictor. Alpha : 0.01. Result is {'Coverage_rate': 0.9912195121951219, 'Average_size': 77.53495934959349}\n",
      "Score: RAPS. Predictor : ClusterPredictor. Alpha : 0.05. Result is {'Coverage_rate': 0.9460162601626017, 'Average_size': 54.01593495934959}\n",
      "Score: RAPS. Predictor : ClusterPredictor. Alpha : 0.1. Result is {'Coverage_rate': 0.896910569105691, 'Average_size': 40.74861788617886}\n",
      "Score: RAPS. Predictor : ClusterPredictor. Alpha : 0.2. Result is {'Coverage_rate': 0.7876422764227642, 'Average_size': 24.792520325203252}\n",
      "Score: RAPS. Predictor : ClusterPredictor. Alpha : 0.5. Result is {'Coverage_rate': 0.48032520325203254, 'Average_size': 7.364552845528455}\n",
      "Score: SAPS. Predictor : SplitPredictor. Alpha : 0.01. Result is {'Coverage_rate': 0.9905691056910569, 'Average_size': 76.72422764227642}\n",
      "Score: SAPS. Predictor : SplitPredictor. Alpha : 0.05. Result is {'Coverage_rate': 0.9440650406504065, 'Average_size': 53.08975609756097}\n",
      "Score: SAPS. Predictor : SplitPredictor. Alpha : 0.1. Result is {'Coverage_rate': 0.8936585365853659, 'Average_size': 40.098211382113824}\n",
      "Score: SAPS. Predictor : SplitPredictor. Alpha : 0.2. Result is {'Coverage_rate': 0.7873170731707317, 'Average_size': 24.707642276422764}\n",
      "Score: SAPS. Predictor : SplitPredictor. Alpha : 0.5. Result is {'Coverage_rate': 0.48032520325203254, 'Average_size': 7.333333333333333}\n",
      "Score: SAPS. Predictor : ClassWisePredictor. Alpha : 0.01. Result is {'Coverage_rate': 0.9996747967479674, 'Average_size': 101.72552845528455}\n",
      "Score: SAPS. Predictor : ClassWisePredictor. Alpha : 0.05. Result is {'Coverage_rate': 0.9590243902439024, 'Average_size': 69.86178861788618}\n",
      "Score: SAPS. Predictor : ClassWisePredictor. Alpha : 0.1. Result is {'Coverage_rate': 0.9073170731707317, 'Average_size': 44.502764227642274}\n",
      "Score: SAPS. Predictor : ClassWisePredictor. Alpha : 0.2. Result is {'Coverage_rate': 0.8052032520325203, 'Average_size': 27.94439024390244}\n",
      "Score: SAPS. Predictor : ClassWisePredictor. Alpha : 0.5. Result is {'Coverage_rate': 0.4959349593495935, 'Average_size': 9.973983739837399}\n",
      "Score: SAPS. Predictor : ClusterPredictor. Alpha : 0.01. Result is {'Coverage_rate': 0.9889430894308943, 'Average_size': 75.28715447154471}\n",
      "Score: SAPS. Predictor : ClusterPredictor. Alpha : 0.05. Result is {'Coverage_rate': 0.9450406504065041, 'Average_size': 53.458211382113824}\n",
      "Score: SAPS. Predictor : ClusterPredictor. Alpha : 0.1. Result is {'Coverage_rate': 0.895609756097561, 'Average_size': 40.36747967479675}\n",
      "Score: SAPS. Predictor : ClusterPredictor. Alpha : 0.2. Result is {'Coverage_rate': 0.7876422764227642, 'Average_size': 24.708943089430893}\n",
      "Score: SAPS. Predictor : ClusterPredictor. Alpha : 0.5. Result is {'Coverage_rate': 0.48097560975609754, 'Average_size': 7.369756097560976}\n"
     ]
    }
   ],
   "source": [
    "test_conformal_training.test_training(\"flower\", 102, train_data_loader, cal_data_loader, test_data_loader)"
   ]
  },
  {
   "cell_type": "code",
   "execution_count": null,
   "id": "be4832a7",
   "metadata": {},
   "outputs": [],
   "source": []
  },
  {
   "cell_type": "markdown",
   "id": "23b4fc7e",
   "metadata": {},
   "source": [
    "## GTSRB"
   ]
  },
  {
   "cell_type": "code",
   "execution_count": 17,
   "id": "20b42371",
   "metadata": {},
   "outputs": [],
   "source": [
    "train_set = dataset_build.build_dataset(\"GTSRB\")\n",
    "train_data_loader = torch.utils.data.DataLoader(train_set, batch_size=128,\n",
    "                                          shuffle=True, num_workers=2)\n",
    "test_set = dataset_build.build_dataset(\"GTSRB\", mode='test')\n",
    "cal_dataset, test_dataset = torch.utils.data.random_split(test_set, [len(test_set)//2, len(test_set)-len(test_set)//2])\n",
    "\n",
    "cal_data_loader = torch.utils.data.DataLoader(cal_dataset, batch_size=128, shuffle=False, pin_memory=True)\n",
    "test_data_loader = torch.utils.data.DataLoader(test_dataset, batch_size=128, shuffle=False, pin_memory=True)"
   ]
  },
  {
   "cell_type": "code",
   "execution_count": 19,
   "id": "0808a482",
   "metadata": {},
   "outputs": [
    {
     "name": "stdout",
     "output_type": "stream",
     "text": [
      "Score: THR. Predictor : SplitPredictor. Alpha : 0.01. Result is {'Coverage_rate': 0.05827395091053048, 'Average_size': 1.026603325415677}\n",
      "Score: THR. Predictor : SplitPredictor. Alpha : 0.05. Result is {'Coverage_rate': 0.05827395091053048, 'Average_size': 1.026603325415677}\n",
      "Score: THR. Predictor : SplitPredictor. Alpha : 0.1. Result is {'Coverage_rate': 0.05827395091053048, 'Average_size': 1.026603325415677}\n",
      "Score: THR. Predictor : SplitPredictor. Alpha : 0.2. Result is {'Coverage_rate': 0.05827395091053048, 'Average_size': 1.026603325415677}\n",
      "Score: THR. Predictor : SplitPredictor. Alpha : 0.5. Result is {'Coverage_rate': 0.05827395091053048, 'Average_size': 1.026603325415677}\n"
     ]
    },
    {
     "name": "stderr",
     "output_type": "stream",
     "text": [
      "/usr/local/lib/python3.10/dist-packages/torchcp/classification/predictors/split.py:59: UserWarning: The value of quantile exceed 1. It should be a value in (0,1). To avoid program crash, the threshold is set as torch.inf.\n",
      "  warnings.warn(\"The value of quantile exceed 1. It should be a value in (0,1). To avoid program crash, the threshold is set as torch.inf.\")\n"
     ]
    },
    {
     "name": "stdout",
     "output_type": "stream",
     "text": [
      "Score: THR. Predictor : ClassWisePredictor. Alpha : 0.01. Result is {'Coverage_rate': 0.2365795724465558, 'Average_size': 22.993824228028505}\n",
      "Score: THR. Predictor : ClassWisePredictor. Alpha : 0.05. Result is {'Coverage_rate': 0.05827395091053048, 'Average_size': 1.026603325415677}\n",
      "Score: THR. Predictor : ClassWisePredictor. Alpha : 0.1. Result is {'Coverage_rate': 0.05827395091053048, 'Average_size': 1.026603325415677}\n",
      "Score: THR. Predictor : ClassWisePredictor. Alpha : 0.2. Result is {'Coverage_rate': 0.05827395091053048, 'Average_size': 1.026603325415677}\n",
      "Score: THR. Predictor : ClassWisePredictor. Alpha : 0.5. Result is {'Coverage_rate': 0.03721298495645289, 'Average_size': 0.43515439429928743}\n",
      "Score: THR. Predictor : ClusterPredictor. Alpha : 0.01. Result is {'Coverage_rate': 0.05827395091053048, 'Average_size': 1.026603325415677}\n"
     ]
    },
    {
     "name": "stderr",
     "output_type": "stream",
     "text": [
      "/usr/local/lib/python3.10/dist-packages/torchcp/classification/predictors/cluster.py:82: ConvergenceWarning: Number of distinct clusters (2) found smaller than n_clusters (10). Possibly due to duplicate points in X.\n",
      "  kmeans = KMeans(n_clusters=int(self.__num_clusters), n_init=10).fit(X=embeddings.detach().cpu().numpy(),\n"
     ]
    },
    {
     "name": "stdout",
     "output_type": "stream",
     "text": [
      "Score: THR. Predictor : ClusterPredictor. Alpha : 0.05. Result is {'Coverage_rate': 0.05827395091053048, 'Average_size': 1.026603325415677}\n"
     ]
    },
    {
     "name": "stderr",
     "output_type": "stream",
     "text": [
      "/usr/local/lib/python3.10/dist-packages/torchcp/classification/predictors/cluster.py:82: ConvergenceWarning: Number of distinct clusters (2) found smaller than n_clusters (10). Possibly due to duplicate points in X.\n",
      "  kmeans = KMeans(n_clusters=int(self.__num_clusters), n_init=10).fit(X=embeddings.detach().cpu().numpy(),\n"
     ]
    },
    {
     "name": "stdout",
     "output_type": "stream",
     "text": [
      "Score: THR. Predictor : ClusterPredictor. Alpha : 0.1. Result is {'Coverage_rate': 0.05827395091053048, 'Average_size': 1.026603325415677}\n"
     ]
    },
    {
     "name": "stderr",
     "output_type": "stream",
     "text": [
      "/usr/local/lib/python3.10/dist-packages/torchcp/classification/predictors/cluster.py:82: ConvergenceWarning: Number of distinct clusters (2) found smaller than n_clusters (10). Possibly due to duplicate points in X.\n",
      "  kmeans = KMeans(n_clusters=int(self.__num_clusters), n_init=10).fit(X=embeddings.detach().cpu().numpy(),\n",
      "/usr/local/lib/python3.10/dist-packages/torchcp/classification/predictors/split.py:54: UserWarning: The shape of scores is 0, which is a invalid scores. To avoid program crash, the threshold is set as torch.inf.\n",
      "  warnings.warn(\"The shape of scores is 0, which is a invalid scores. To avoid program crash, the threshold is set as torch.inf.\")\n"
     ]
    },
    {
     "name": "stdout",
     "output_type": "stream",
     "text": [
      "Score: THR. Predictor : ClusterPredictor. Alpha : 0.2. Result is {'Coverage_rate': 0.05827395091053048, 'Average_size': 1.026603325415677}\n"
     ]
    },
    {
     "name": "stderr",
     "output_type": "stream",
     "text": [
      "/usr/local/lib/python3.10/dist-packages/torchcp/classification/predictors/cluster.py:82: ConvergenceWarning: Number of distinct clusters (2) found smaller than n_clusters (10). Possibly due to duplicate points in X.\n",
      "  kmeans = KMeans(n_clusters=int(self.__num_clusters), n_init=10).fit(X=embeddings.detach().cpu().numpy(),\n",
      "/usr/local/lib/python3.10/dist-packages/torchcp/classification/predictors/split.py:54: UserWarning: The shape of scores is 0, which is a invalid scores. To avoid program crash, the threshold is set as torch.inf.\n",
      "  warnings.warn(\"The shape of scores is 0, which is a invalid scores. To avoid program crash, the threshold is set as torch.inf.\")\n"
     ]
    },
    {
     "name": "stdout",
     "output_type": "stream",
     "text": [
      "Score: THR. Predictor : ClusterPredictor. Alpha : 0.5. Result is {'Coverage_rate': 0.03721298495645289, 'Average_size': 0.43515439429928743}\n",
      "Score: APS. Predictor : SplitPredictor. Alpha : 0.01. Result is {'Coverage_rate': 0.05827395091053048, 'Average_size': 1.026603325415677}\n",
      "Score: APS. Predictor : SplitPredictor. Alpha : 0.05. Result is {'Coverage_rate': 0.05827395091053048, 'Average_size': 1.026603325415677}\n",
      "Score: APS. Predictor : SplitPredictor. Alpha : 0.1. Result is {'Coverage_rate': 0.05827395091053048, 'Average_size': 1.026603325415677}\n",
      "Score: APS. Predictor : SplitPredictor. Alpha : 0.2. Result is {'Coverage_rate': 0.05827395091053048, 'Average_size': 1.026603325415677}\n",
      "Score: APS. Predictor : SplitPredictor. Alpha : 0.5. Result is {'Coverage_rate': 0.05827395091053048, 'Average_size': 1.026603325415677}\n"
     ]
    },
    {
     "name": "stderr",
     "output_type": "stream",
     "text": [
      "/usr/local/lib/python3.10/dist-packages/torchcp/classification/predictors/split.py:59: UserWarning: The value of quantile exceed 1. It should be a value in (0,1). To avoid program crash, the threshold is set as torch.inf.\n",
      "  warnings.warn(\"The value of quantile exceed 1. It should be a value in (0,1). To avoid program crash, the threshold is set as torch.inf.\")\n"
     ]
    },
    {
     "name": "stdout",
     "output_type": "stream",
     "text": [
      "Score: APS. Predictor : ClassWisePredictor. Alpha : 0.01. Result is {'Coverage_rate': 0.2365795724465558, 'Average_size': 22.993824228028505}\n",
      "Score: APS. Predictor : ClassWisePredictor. Alpha : 0.05. Result is {'Coverage_rate': 0.05827395091053048, 'Average_size': 1.026603325415677}\n",
      "Score: APS. Predictor : ClassWisePredictor. Alpha : 0.1. Result is {'Coverage_rate': 0.05827395091053048, 'Average_size': 1.026603325415677}\n",
      "Score: APS. Predictor : ClassWisePredictor. Alpha : 0.2. Result is {'Coverage_rate': 0.05827395091053048, 'Average_size': 1.026603325415677}\n",
      "Score: APS. Predictor : ClassWisePredictor. Alpha : 0.5. Result is {'Coverage_rate': 0.051623119556611245, 'Average_size': 0.87458432304038}\n",
      "Score: APS. Predictor : ClusterPredictor. Alpha : 0.01. Result is {'Coverage_rate': 0.05827395091053048, 'Average_size': 1.026603325415677}\n"
     ]
    },
    {
     "name": "stderr",
     "output_type": "stream",
     "text": [
      "/usr/local/lib/python3.10/dist-packages/torchcp/classification/predictors/cluster.py:82: ConvergenceWarning: Number of distinct clusters (2) found smaller than n_clusters (10). Possibly due to duplicate points in X.\n",
      "  kmeans = KMeans(n_clusters=int(self.__num_clusters), n_init=10).fit(X=embeddings.detach().cpu().numpy(),\n",
      "/usr/local/lib/python3.10/dist-packages/torchcp/classification/predictors/split.py:54: UserWarning: The shape of scores is 0, which is a invalid scores. To avoid program crash, the threshold is set as torch.inf.\n",
      "  warnings.warn(\"The shape of scores is 0, which is a invalid scores. To avoid program crash, the threshold is set as torch.inf.\")\n"
     ]
    },
    {
     "name": "stdout",
     "output_type": "stream",
     "text": [
      "Score: APS. Predictor : ClusterPredictor. Alpha : 0.05. Result is {'Coverage_rate': 0.05827395091053048, 'Average_size': 1.026603325415677}\n"
     ]
    },
    {
     "name": "stderr",
     "output_type": "stream",
     "text": [
      "/usr/local/lib/python3.10/dist-packages/torchcp/classification/predictors/cluster.py:82: ConvergenceWarning: Number of distinct clusters (2) found smaller than n_clusters (10). Possibly due to duplicate points in X.\n",
      "  kmeans = KMeans(n_clusters=int(self.__num_clusters), n_init=10).fit(X=embeddings.detach().cpu().numpy(),\n"
     ]
    },
    {
     "name": "stdout",
     "output_type": "stream",
     "text": [
      "Score: APS. Predictor : ClusterPredictor. Alpha : 0.1. Result is {'Coverage_rate': 0.05827395091053048, 'Average_size': 1.026603325415677}\n"
     ]
    },
    {
     "name": "stderr",
     "output_type": "stream",
     "text": [
      "/usr/local/lib/python3.10/dist-packages/torchcp/classification/predictors/cluster.py:82: ConvergenceWarning: Number of distinct clusters (2) found smaller than n_clusters (10). Possibly due to duplicate points in X.\n",
      "  kmeans = KMeans(n_clusters=int(self.__num_clusters), n_init=10).fit(X=embeddings.detach().cpu().numpy(),\n"
     ]
    },
    {
     "name": "stdout",
     "output_type": "stream",
     "text": [
      "Score: APS. Predictor : ClusterPredictor. Alpha : 0.2. Result is {'Coverage_rate': 0.05827395091053048, 'Average_size': 1.026603325415677}\n"
     ]
    },
    {
     "name": "stderr",
     "output_type": "stream",
     "text": [
      "/usr/local/lib/python3.10/dist-packages/torchcp/classification/predictors/cluster.py:82: ConvergenceWarning: Number of distinct clusters (2) found smaller than n_clusters (10). Possibly due to duplicate points in X.\n",
      "  kmeans = KMeans(n_clusters=int(self.__num_clusters), n_init=10).fit(X=embeddings.detach().cpu().numpy(),\n",
      "/usr/local/lib/python3.10/dist-packages/torchcp/classification/predictors/split.py:54: UserWarning: The shape of scores is 0, which is a invalid scores. To avoid program crash, the threshold is set as torch.inf.\n",
      "  warnings.warn(\"The shape of scores is 0, which is a invalid scores. To avoid program crash, the threshold is set as torch.inf.\")\n"
     ]
    },
    {
     "name": "stdout",
     "output_type": "stream",
     "text": [
      "Score: APS. Predictor : ClusterPredictor. Alpha : 0.5. Result is {'Coverage_rate': 0.051148060174188444, 'Average_size': 0.8318289786223277}\n",
      "Score: RAPS. Predictor : SplitPredictor. Alpha : 0.01. Result is {'Coverage_rate': 0.9855898653998416, 'Average_size': 41.0006334125099}\n",
      "Score: RAPS. Predictor : SplitPredictor. Alpha : 0.05. Result is {'Coverage_rate': 0.9452098178939035, 'Average_size': 39.0006334125099}\n",
      "Score: RAPS. Predictor : SplitPredictor. Alpha : 0.1. Result is {'Coverage_rate': 0.8910530482977039, 'Average_size': 36.0006334125099}\n",
      "Score: RAPS. Predictor : SplitPredictor. Alpha : 0.2. Result is {'Coverage_rate': 0.7990498812351544, 'Average_size': 33.0006334125099}\n",
      "Score: RAPS. Predictor : SplitPredictor. Alpha : 0.5. Result is {'Coverage_rate': 0.478701504354711, 'Average_size': 25.0006334125099}\n"
     ]
    },
    {
     "name": "stderr",
     "output_type": "stream",
     "text": [
      "/usr/local/lib/python3.10/dist-packages/torchcp/classification/predictors/split.py:59: UserWarning: The value of quantile exceed 1. It should be a value in (0,1). To avoid program crash, the threshold is set as torch.inf.\n",
      "  warnings.warn(\"The value of quantile exceed 1. It should be a value in (0,1). To avoid program crash, the threshold is set as torch.inf.\")\n"
     ]
    },
    {
     "name": "stdout",
     "output_type": "stream",
     "text": [
      "Score: RAPS. Predictor : ClassWisePredictor. Alpha : 0.01. Result is {'Coverage_rate': 0.436104513064133, 'Average_size': 29.116706254948536}\n",
      "Score: RAPS. Predictor : ClassWisePredictor. Alpha : 0.05. Result is {'Coverage_rate': 0.24433887569279494, 'Average_size': 12.08313539192399}\n",
      "Score: RAPS. Predictor : ClassWisePredictor. Alpha : 0.1. Result is {'Coverage_rate': 0.24433887569279494, 'Average_size': 12.08313539192399}\n",
      "Score: RAPS. Predictor : ClassWisePredictor. Alpha : 0.2. Result is {'Coverage_rate': 0.24117181314330957, 'Average_size': 11.365795724465558}\n",
      "Score: RAPS. Predictor : ClassWisePredictor. Alpha : 0.5. Result is {'Coverage_rate': 0.13855898653998416, 'Average_size': 6.9243072050673}\n",
      "Score: RAPS. Predictor : ClusterPredictor. Alpha : 0.01. Result is {'Coverage_rate': 0.9855898653998416, 'Average_size': 41.0006334125099}\n",
      "Score: RAPS. Predictor : ClusterPredictor. Alpha : 0.05. Result is {'Coverage_rate': 0.7091053048297704, 'Average_size': 32.87268408551069}\n",
      "Score: RAPS. Predictor : ClusterPredictor. Alpha : 0.1. Result is {'Coverage_rate': 0.717181314330958, 'Average_size': 30.37735550277118}\n",
      "Score: RAPS. Predictor : ClusterPredictor. Alpha : 0.2. Result is {'Coverage_rate': 0.63784639746635, 'Average_size': 26.205384006334125}\n",
      "Score: RAPS. Predictor : ClusterPredictor. Alpha : 0.5. Result is {'Coverage_rate': 0.3060965954077593, 'Average_size': 14.519873317498021}\n",
      "Score: SAPS. Predictor : SplitPredictor. Alpha : 0.01. Result is {'Coverage_rate': 0.9897070467141726, 'Average_size': 41.58638163103721}\n",
      "Score: SAPS. Predictor : SplitPredictor. Alpha : 0.05. Result is {'Coverage_rate': 0.9504354711005543, 'Average_size': 39.28424386381631}\n",
      "Score: SAPS. Predictor : SplitPredictor. Alpha : 0.1. Result is {'Coverage_rate': 0.9034045922406968, 'Average_size': 36.482818685669045}\n",
      "Score: SAPS. Predictor : SplitPredictor. Alpha : 0.2. Result is {'Coverage_rate': 0.8011084718923199, 'Average_size': 33.29089469517023}\n",
      "Score: SAPS. Predictor : SplitPredictor. Alpha : 0.5. Result is {'Coverage_rate': 0.4939034045922407, 'Average_size': 25.391607284243864}\n"
     ]
    },
    {
     "name": "stderr",
     "output_type": "stream",
     "text": [
      "/usr/local/lib/python3.10/dist-packages/torchcp/classification/predictors/split.py:59: UserWarning: The value of quantile exceed 1. It should be a value in (0,1). To avoid program crash, the threshold is set as torch.inf.\n",
      "  warnings.warn(\"The value of quantile exceed 1. It should be a value in (0,1). To avoid program crash, the threshold is set as torch.inf.\")\n"
     ]
    },
    {
     "name": "stdout",
     "output_type": "stream",
     "text": [
      "Score: SAPS. Predictor : ClassWisePredictor. Alpha : 0.01. Result is {'Coverage_rate': 0.991132224861441, 'Average_size': 42.73206650831354}\n",
      "Score: SAPS. Predictor : ClassWisePredictor. Alpha : 0.05. Result is {'Coverage_rate': 0.9491686460807601, 'Average_size': 40.47094220110847}\n",
      "Score: SAPS. Predictor : ClassWisePredictor. Alpha : 0.1. Result is {'Coverage_rate': 0.910055423594616, 'Average_size': 38.3673792557403}\n",
      "Score: SAPS. Predictor : ClassWisePredictor. Alpha : 0.2. Result is {'Coverage_rate': 0.8036421219319082, 'Average_size': 33.603958828186855}\n",
      "Score: SAPS. Predictor : ClassWisePredictor. Alpha : 0.5. Result is {'Coverage_rate': 0.5002375296912114, 'Average_size': 21.419635787806808}\n",
      "Score: SAPS. Predictor : ClusterPredictor. Alpha : 0.01. Result is {'Coverage_rate': 0.9901821060965954, 'Average_size': 41.446080760095015}\n",
      "Score: SAPS. Predictor : ClusterPredictor. Alpha : 0.05. Result is {'Coverage_rate': 0.9469517022961204, 'Average_size': 38.91290577988915}\n",
      "Score: SAPS. Predictor : ClusterPredictor. Alpha : 0.1. Result is {'Coverage_rate': 0.894695170229612, 'Average_size': 35.54885193982581}\n",
      "Score: SAPS. Predictor : ClusterPredictor. Alpha : 0.2. Result is {'Coverage_rate': 0.8012668250197942, 'Average_size': 31.36326207442597}\n",
      "Score: SAPS. Predictor : ClusterPredictor. Alpha : 0.5. Result is {'Coverage_rate': 0.5072050673000792, 'Average_size': 18.984481393507522}\n"
     ]
    }
   ],
   "source": [
    "test_conformal_training.test_training(\"GTSRB\", 43, train_data_loader, cal_data_loader, test_data_loader)"
   ]
  },
  {
   "cell_type": "markdown",
   "id": "ad4f3048",
   "metadata": {},
   "source": [
    "## DTD"
   ]
  },
  {
   "cell_type": "code",
   "execution_count": 9,
   "id": "4d20b54f",
   "metadata": {},
   "outputs": [],
   "source": [
    "train_set = dataset_build.build_dataset(\"DTD\")\n",
    "train_data_loader = torch.utils.data.DataLoader(train_set, batch_size=64,\n",
    "                                          shuffle=True, num_workers=2)\n",
    "test_set = dataset_build.build_dataset(\"DTD\", mode='test')\n",
    "cal_dataset, test_dataset = torch.utils.data.random_split(test_set, [len(test_set)//2, len(test_set)-len(test_set)//2])\n",
    "\n",
    "cal_data_loader = torch.utils.data.DataLoader(cal_dataset, batch_size=64, shuffle=False, pin_memory=True)\n",
    "test_data_loader = torch.utils.data.DataLoader(test_dataset, batch_size=64, shuffle=False, pin_memory=True)"
   ]
  },
  {
   "cell_type": "code",
   "execution_count": null,
   "id": "bf15a32d",
   "metadata": {},
   "outputs": [
    {
     "name": "stdout",
     "output_type": "stream",
     "text": [
      "Score: THR. Predictor : SplitPredictor. Alpha : 0.01. Result is {'Coverage_rate': 0.03404255319148936, 'Average_size': 1.0074468085106383}\n",
      "Score: THR. Predictor : SplitPredictor. Alpha : 0.05. Result is {'Coverage_rate': 0.03404255319148936, 'Average_size': 1.0074468085106383}\n",
      "Score: THR. Predictor : SplitPredictor. Alpha : 0.1. Result is {'Coverage_rate': 0.03404255319148936, 'Average_size': 1.0074468085106383}\n",
      "Score: THR. Predictor : SplitPredictor. Alpha : 0.2. Result is {'Coverage_rate': 0.03404255319148936, 'Average_size': 1.0074468085106383}\n",
      "Score: THR. Predictor : SplitPredictor. Alpha : 0.5. Result is {'Coverage_rate': 0.03404255319148936, 'Average_size': 1.0074468085106383}\n",
      "Score: THR. Predictor : ClassWisePredictor. Alpha : 0.01. Result is {'Coverage_rate': 1.0, 'Average_size': 47.0}\n",
      "Score: THR. Predictor : ClassWisePredictor. Alpha : 0.05. Result is {'Coverage_rate': 0.4031914893617021, 'Average_size': 16.52340425531915}\n",
      "Score: THR. Predictor : ClassWisePredictor. Alpha : 0.1. Result is {'Coverage_rate': 0.03404255319148936, 'Average_size': 1.0074468085106383}\n",
      "Score: THR. Predictor : ClassWisePredictor. Alpha : 0.2. Result is {'Coverage_rate': 0.03404255319148936, 'Average_size': 1.0074468085106383}\n",
      "Score: THR. Predictor : ClassWisePredictor. Alpha : 0.5. Result is {'Coverage_rate': 0.03404255319148936, 'Average_size': 1.0074468085106383}\n",
      "Score: THR. Predictor : ClusterPredictor. Alpha : 0.01. Result is {'Coverage_rate': 0.03404255319148936, 'Average_size': 1.0074468085106383}\n",
      "Score: THR. Predictor : ClusterPredictor. Alpha : 0.05. Result is {'Coverage_rate': 0.03404255319148936, 'Average_size': 1.0074468085106383}\n",
      "Score: THR. Predictor : ClusterPredictor. Alpha : 0.1. Result is {'Coverage_rate': 0.03404255319148936, 'Average_size': 1.0074468085106383}\n",
      "Score: THR. Predictor : ClusterPredictor. Alpha : 0.2. Result is {'Coverage_rate': 0.03404255319148936, 'Average_size': 1.0074468085106383}\n",
      "Score: THR. Predictor : ClusterPredictor. Alpha : 0.5. Result is {'Coverage_rate': 0.03404255319148936, 'Average_size': 1.0074468085106383}\n",
      "Score: APS. Predictor : SplitPredictor. Alpha : 0.01. Result is {'Coverage_rate': 0.036170212765957444, 'Average_size': 1.103191489361702}\n",
      "Score: APS. Predictor : SplitPredictor. Alpha : 0.05. Result is {'Coverage_rate': 0.036170212765957444, 'Average_size': 1.103191489361702}\n",
      "Score: APS. Predictor : SplitPredictor. Alpha : 0.1. Result is {'Coverage_rate': 0.036170212765957444, 'Average_size': 1.103191489361702}\n",
      "Score: APS. Predictor : SplitPredictor. Alpha : 0.2. Result is {'Coverage_rate': 0.036170212765957444, 'Average_size': 1.103191489361702}\n",
      "Score: APS. Predictor : SplitPredictor. Alpha : 0.5. Result is {'Coverage_rate': 0.036170212765957444, 'Average_size': 1.103191489361702}\n",
      "Score: APS. Predictor : ClassWisePredictor. Alpha : 0.01. Result is {'Coverage_rate': 1.0, 'Average_size': 47.0}\n",
      "Score: APS. Predictor : ClassWisePredictor. Alpha : 0.05. Result is {'Coverage_rate': 0.40425531914893614, 'Average_size': 16.58723404255319}\n",
      "Score: APS. Predictor : ClassWisePredictor. Alpha : 0.1. Result is {'Coverage_rate': 0.036170212765957444, 'Average_size': 1.103191489361702}\n",
      "Score: APS. Predictor : ClassWisePredictor. Alpha : 0.2. Result is {'Coverage_rate': 0.036170212765957444, 'Average_size': 1.103191489361702}\n",
      "Score: APS. Predictor : ClassWisePredictor. Alpha : 0.5. Result is {'Coverage_rate': 0.036170212765957444, 'Average_size': 1.103191489361702}\n",
      "Score: APS. Predictor : ClusterPredictor. Alpha : 0.01. Result is {'Coverage_rate': 0.036170212765957444, 'Average_size': 1.103191489361702}\n",
      "Score: APS. Predictor : ClusterPredictor. Alpha : 0.05. Result is {'Coverage_rate': 0.036170212765957444, 'Average_size': 1.103191489361702}\n",
      "Score: APS. Predictor : ClusterPredictor. Alpha : 0.2. Result is {'Coverage_rate': 0.036170212765957444, 'Average_size': 1.103191489361702}\n",
      "Score: APS. Predictor : ClusterPredictor. Alpha : 0.5. Result is {'Coverage_rate': 0.036170212765957444, 'Average_size': 1.103191489361702}\n",
      "Score: RAPS. Predictor : SplitPredictor. Alpha : 0.01. Result is {'Coverage_rate': 0.9840425531914894, 'Average_size': 46.0}\n",
      "Score: RAPS. Predictor : SplitPredictor. Alpha : 0.05. Result is {'Coverage_rate': 0.9425531914893617, 'Average_size': 44.0}\n",
      "Score: RAPS. Predictor : SplitPredictor. Alpha : 0.1. Result is {'Coverage_rate': 0.902127659574468, 'Average_size': 42.0}\n",
      "Score: RAPS. Predictor : SplitPredictor. Alpha : 0.2. Result is {'Coverage_rate': 0.8138297872340425, 'Average_size': 38.0}\n",
      "Score: RAPS. Predictor : SplitPredictor. Alpha : 0.5. Result is {'Coverage_rate': 0.49361702127659574, 'Average_size': 23.0}\n",
      "Score: RAPS. Predictor : ClassWisePredictor. Alpha : 0.01. Result is {'Coverage_rate': 1.0, 'Average_size': 47.0}\n",
      "Score: RAPS. Predictor : ClassWisePredictor. Alpha : 0.05. Result is {'Coverage_rate': 0.7425531914893617, 'Average_size': 33.96808510638298}\n",
      "Score: RAPS. Predictor : ClassWisePredictor. Alpha : 0.1. Result is {'Coverage_rate': 0.5053191489361702, 'Average_size': 23.0031914893617}\n",
      "Score: RAPS. Predictor : ClassWisePredictor. Alpha : 0.5. Result is {'Coverage_rate': 0.1, 'Average_size': 4.586170212765958}\n",
      "Score: RAPS. Predictor : ClusterPredictor. Alpha : 0.01. Result is {'Coverage_rate': 0.9840425531914894, 'Average_size': 46.0}\n",
      "Score: RAPS. Predictor : ClusterPredictor. Alpha : 0.05. Result is {'Coverage_rate': 0.9425531914893617, 'Average_size': 44.0}\n",
      "Score: RAPS. Predictor : ClusterPredictor. Alpha : 0.1. Result is {'Coverage_rate': 0.902127659574468, 'Average_size': 42.0}\n",
      "Score: RAPS. Predictor : ClusterPredictor. Alpha : 0.2. Result is {'Coverage_rate': 0.8138297872340425, 'Average_size': 38.0}\n",
      "Score: RAPS. Predictor : ClusterPredictor. Alpha : 0.5. Result is {'Coverage_rate': 0.49361702127659574, 'Average_size': 23.0}\n",
      "Score: SAPS. Predictor : SplitPredictor. Alpha : 0.01. Result is {'Coverage_rate': 0.9925531914893617, 'Average_size': 46.44255319148936}\n",
      "Score: SAPS. Predictor : SplitPredictor. Alpha : 0.05. Result is {'Coverage_rate': 0.9595744680851064, 'Average_size': 44.77340425531915}\n",
      "Score: SAPS. Predictor : SplitPredictor. Alpha : 0.1. Result is {'Coverage_rate': 0.9117021276595745, 'Average_size': 42.59148936170213}\n",
      "Score: SAPS. Predictor : SplitPredictor. Alpha : 0.2. Result is {'Coverage_rate': 0.8170212765957446, 'Average_size': 38.10957446808511}\n"
     ]
    }
   ],
   "source": [
    "test_conformal_training.test_training(\"DTD\", 47, train_data_loader, cal_data_loader, test_data_loader)"
   ]
  },
  {
   "cell_type": "code",
   "execution_count": null,
   "id": "33f7ce46",
   "metadata": {},
   "outputs": [],
   "source": []
  }
 ],
 "metadata": {
  "kernelspec": {
   "display_name": "Python 3 (ipykernel)",
   "language": "python",
   "name": "python3"
  },
  "language_info": {
   "codemirror_mode": {
    "name": "ipython",
    "version": 3
   },
   "file_extension": ".py",
   "mimetype": "text/x-python",
   "name": "python",
   "nbconvert_exporter": "python",
   "pygments_lexer": "ipython3",
   "version": "3.10.12"
  }
 },
 "nbformat": 4,
 "nbformat_minor": 5
}
